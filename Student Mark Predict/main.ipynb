{
 "cells": [
  {
   "cell_type": "code",
   "execution_count": 1,
   "id": "2bf20219",
   "metadata": {},
   "outputs": [
    {
     "data": {
      "text/html": [
       "<div>\n",
       "<style scoped>\n",
       "    .dataframe tbody tr th:only-of-type {\n",
       "        vertical-align: middle;\n",
       "    }\n",
       "\n",
       "    .dataframe tbody tr th {\n",
       "        vertical-align: top;\n",
       "    }\n",
       "\n",
       "    .dataframe thead th {\n",
       "        text-align: right;\n",
       "    }\n",
       "</style>\n",
       "<table border=\"1\" class=\"dataframe\">\n",
       "  <thead>\n",
       "    <tr style=\"text-align: right;\">\n",
       "      <th></th>\n",
       "      <th>Hours</th>\n",
       "      <th>Scores</th>\n",
       "    </tr>\n",
       "  </thead>\n",
       "  <tbody>\n",
       "    <tr>\n",
       "      <th>0</th>\n",
       "      <td>1.5</td>\n",
       "      <td>20</td>\n",
       "    </tr>\n",
       "    <tr>\n",
       "      <th>1</th>\n",
       "      <td>2.0</td>\n",
       "      <td>22</td>\n",
       "    </tr>\n",
       "    <tr>\n",
       "      <th>2</th>\n",
       "      <td>2.5</td>\n",
       "      <td>25</td>\n",
       "    </tr>\n",
       "    <tr>\n",
       "      <th>3</th>\n",
       "      <td>3.0</td>\n",
       "      <td>30</td>\n",
       "    </tr>\n",
       "    <tr>\n",
       "      <th>4</th>\n",
       "      <td>3.5</td>\n",
       "      <td>34</td>\n",
       "    </tr>\n",
       "  </tbody>\n",
       "</table>\n",
       "</div>"
      ],
      "text/plain": [
       "   Hours  Scores\n",
       "0    1.5      20\n",
       "1    2.0      22\n",
       "2    2.5      25\n",
       "3    3.0      30\n",
       "4    3.5      34"
      ]
     },
     "execution_count": 1,
     "metadata": {},
     "output_type": "execute_result"
    }
   ],
   "source": [
    "import pandas as pd\n",
    "\n",
    "data = pd.read_csv('student_scores.csv')\n",
    "data.head()"
   ]
  },
  {
   "cell_type": "code",
   "execution_count": 7,
   "id": "59b90aba",
   "metadata": {},
   "outputs": [
    {
     "name": "stdout",
     "output_type": "stream",
     "text": [
      "          Hours     Scores\n",
      "count  18.00000  18.000000\n",
      "mean    5.75000  57.833333\n",
      "std     2.66927  25.720786\n",
      "min     1.50000  20.000000\n",
      "25%     3.62500  35.500000\n",
      "50%     5.75000  57.500000\n",
      "75%     7.87500  79.000000\n",
      "max    10.00000  98.000000\n",
      "Hours     0\n",
      "Scores    0\n",
      "dtype: int64\n",
      "Hours     float64\n",
      "Scores      int64\n",
      "dtype: object\n"
     ]
    }
   ],
   "source": [
    "print(data.describe())\n",
    "print(data.isnull().sum())\n",
    "print(data.dtypes)"
   ]
  },
  {
   "cell_type": "code",
   "execution_count": 15,
   "id": "c22461f0",
   "metadata": {},
   "outputs": [],
   "source": [
    "from sklearn.model_selection import train_test_split\n",
    "from sklearn.linear_model import LinearRegression\n",
    "from sklearn.metrics import mean_squared_error, r2_score\n",
    "\n",
    "x=data['Hours'].values.reshape(-1,1)\n",
    "y=data['Scores'].values.reshape(-1,1)\n",
    "x_train, x_test, y_train, y_test = train_test_split(x, y,test_size=0.2,random_state=42)\n",
    "\n",
    "model = LinearRegression()\n",
    "model.fit(x_train,y_train)\n",
    "y_predict=model.predict(x_test)\n",
    "x_predict = model.predict(x_train)\n"
   ]
  },
  {
   "cell_type": "code",
   "execution_count": 16,
   "id": "b18fd640",
   "metadata": {},
   "outputs": [
    {
     "name": "stdout",
     "output_type": "stream",
     "text": [
      "Coefficients: [[9.7963257]]\n",
      "Intercept: [1.24518031]\n"
     ]
    }
   ],
   "source": [
    "coefficients = model.coef_\n",
    "intercept = model.intercept_\n",
    "print(f\"Coefficients: {coefficients}\")\n",
    "print(f\"Intercept: {intercept}\")"
   ]
  },
  {
   "cell_type": "code",
   "execution_count": 20,
   "id": "61a424e9",
   "metadata": {},
   "outputs": [
    {
     "name": "stdout",
     "output_type": "stream",
     "text": [
      "Training set score :0.9981950409629466\n",
      "Test set score :0.9779150808358111\n",
      "R^2 score :0.9779150808358111\n"
     ]
    }
   ],
   "source": [
    "print(f\"Training set score :{model.score(x_train,y_train)}\")\n",
    "print(f\"Test set score :{model.score(x_test,y_test)}\")\n",
    "print(f\"R^2 score :{r2_score(y_test,y_predict)}\")"
   ]
  },
  {
   "cell_type": "code",
   "execution_count": 22,
   "id": "0a2a04a8",
   "metadata": {},
   "outputs": [],
   "source": [
    "import pickle\n",
    "pickle.dump(model,open('model.pkl','wb'))\n"
   ]
  },
  {
   "cell_type": "code",
   "execution_count": 25,
   "id": "38054b39",
   "metadata": {},
   "outputs": [
    {
     "name": "stdout",
     "output_type": "stream",
     "text": [
      "[[11.04150601]]\n",
      "[[91.86119301]]\n"
     ]
    }
   ],
   "source": [
    "model = pickle.load(open('model.pkl','rb'))\n",
    "print(model.predict([[1]]))\n",
    "print(model.predict([[9.25]]))"
   ]
  }
 ],
 "metadata": {
  "kernelspec": {
   "display_name": "env",
   "language": "python",
   "name": "python3"
  },
  "language_info": {
   "codemirror_mode": {
    "name": "ipython",
    "version": 3
   },
   "file_extension": ".py",
   "mimetype": "text/x-python",
   "name": "python",
   "nbconvert_exporter": "python",
   "pygments_lexer": "ipython3",
   "version": "3.10.2"
  }
 },
 "nbformat": 4,
 "nbformat_minor": 5
}
