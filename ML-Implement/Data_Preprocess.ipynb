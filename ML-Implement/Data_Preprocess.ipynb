{
 "cells": [
  {
   "cell_type": "code",
   "execution_count": 1,
   "id": "b6169e08",
   "metadata": {},
   "outputs": [
    {
     "name": "stdout",
     "output_type": "stream",
     "text": [
      "Super vector regression - Mean Absolute Error : 4600.055870664164\n",
      "Super vector regression - R2 Score : -1.8304038599699686\n",
      "Logistic Regression - Mean Absolute Error : 5600.0\n",
      "Logistic Regression - R2 Score : -2.2110726643598615\n"
     ]
    }
   ],
   "source": [
    "import pandas as pd\n",
    "import numpy as np\n",
    "from sklearn.impute import SimpleImputer\n",
    "from sklearn.preprocessing import LabelEncoder\n",
    "from sklearn.model_selection import train_test_split\n",
    "from sklearn.svm import SVR\n",
    "from sklearn.linear_model import LogisticRegression\n",
    "from sklearn.discriminant_analysis import LinearDiscriminantAnalysis,QuadraticDiscriminantAnalysis\n",
    "from sklearn.metrics import classification_report,confusion_matrix,accuracy_score,mean_absolute_error,r2_score\n",
    "\n",
    "\n",
    "data = {\n",
    "    'Age': [25, np.nan, 35, 45, 32, np.nan, 40],\n",
    "    'Salary': [50000, 54000, np.nan, 62000, 58000, 60000, np.nan],\n",
    "    'Gender': ['Male', 'Female', 'Female', np.nan, 'Female', 'Male', 'Male'],\n",
    "    'Purchased': ['No', 'Yes', 'No', 'Yes', 'No', 'Yes', 'No']\n",
    "}\n",
    "df=pd.DataFrame(data)\n",
    "\n",
    "impute=SimpleImputer(strategy='mean')\n",
    "\n",
    "df[['Salary','Age']]=impute.fit_transform(df[['Salary','Age']])\n",
    "\n",
    "gender_impute=SimpleImputer(strategy='most_frequent')\n",
    "df[['Gender']]=gender_impute.fit_transform(df[['Gender']])\n",
    "\n",
    "encode=LabelEncoder()\n",
    "df['Gender']=encode.fit_transform(df['Gender'])\n",
    "\n",
    "x=df[['Gender','Age']]\n",
    "y=df['Salary']\n",
    "\n",
    "names=[\"Super vector regression\",\"Logistic Regression\"]\n",
    "classifications=[SVR(),LogisticRegression(max_iter=1000)]\n",
    "\n",
    "x_train,x_test,y_train,y_test=train_test_split(x,y,test_size=0.2,random_state=20)\n",
    "for name,clf in zip(names,classifications):\n",
    "    clf.fit(x_train,y_train)\n",
    "    c_predict=clf.predict(x_test)\n",
    " \n",
    "    print(f\"{name} - Mean Absolute Error : {mean_absolute_error(y_test,c_predict)}\")\n",
    "    print(f\"{name} - R2 Score : {r2_score(y_test,c_predict)}\")"
   ]
  }
 ],
 "metadata": {
  "kernelspec": {
   "display_name": "env",
   "language": "python",
   "name": "python3"
  },
  "language_info": {
   "codemirror_mode": {
    "name": "ipython",
    "version": 3
   },
   "file_extension": ".py",
   "mimetype": "text/x-python",
   "name": "python",
   "nbconvert_exporter": "python",
   "pygments_lexer": "ipython3",
   "version": "3.10.2"
  }
 },
 "nbformat": 4,
 "nbformat_minor": 5
}
