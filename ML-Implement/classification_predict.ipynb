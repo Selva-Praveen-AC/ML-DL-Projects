{
 "cells": [
  {
   "cell_type": "code",
   "execution_count": 1,
   "id": "e59e8749",
   "metadata": {},
   "outputs": [
    {
     "name": "stdout",
     "output_type": "stream",
     "text": [
      "       sepal length (cm)  sepal width (cm)  petal length (cm)  \\\n",
      "count         150.000000        150.000000         150.000000   \n",
      "mean            5.843333          3.057333           3.758000   \n",
      "std             0.828066          0.435866           1.765298   \n",
      "min             4.300000          2.000000           1.000000   \n",
      "25%             5.100000          2.800000           1.600000   \n",
      "50%             5.800000          3.000000           4.350000   \n",
      "75%             6.400000          3.300000           5.100000   \n",
      "max             7.900000          4.400000           6.900000   \n",
      "\n",
      "       petal width (cm)     species  \n",
      "count        150.000000  150.000000  \n",
      "mean           1.199333    1.000000  \n",
      "std            0.762238    0.819232  \n",
      "min            0.100000    0.000000  \n",
      "25%            0.300000    0.000000  \n",
      "50%            1.300000    1.000000  \n",
      "75%            1.800000    2.000000  \n",
      "max            2.500000    2.000000   \n",
      "\n",
      "Accuracy point : \n",
      "0.9666666666666667\n",
      "\n",
      "Confusion matrix point : \n",
      "                      is setosa  is versicolor  is virginica\n",
      "predicted setosa              8              0             0\n",
      "predicted versicolor          0             10             1\n",
      "predicted virginica           0              0            11\n",
      "\n",
      "Classification Report :\n",
      "               precision    recall  f1-score   support\n",
      "\n",
      "           0       1.00      1.00      1.00         8\n",
      "           1       1.00      0.91      0.95        11\n",
      "           2       0.92      1.00      0.96        11\n",
      "\n",
      "    accuracy                           0.97        30\n",
      "   macro avg       0.97      0.97      0.97        30\n",
      "weighted avg       0.97      0.97      0.97        30\n",
      "\n",
      "Precision Score : \n",
      "0.9666666666666667\n"
     ]
    }
   ],
   "source": [
    "from sklearn.datasets import load_iris\n",
    "from sklearn.neighbors import KNeighborsClassifier\n",
    "from sklearn.model_selection import train_test_split\n",
    "from sklearn.metrics import confusion_matrix,classification_report,accuracy_score,precision_score\n",
    "import pandas as pd\n",
    "\n",
    "iris = load_iris()\n",
    "\n",
    "iris_pf=pd.DataFrame(data=iris.data,columns=iris.feature_names)\n",
    "iris_pf['species']=iris.target\n",
    "\n",
    "print(iris_pf.describe(),\"\\n\")\n",
    "\n",
    "x,y=load_iris(return_X_y=True)\n",
    "\n",
    "x_train,x_test,y_train,y_test = train_test_split(x,y,test_size=0.2,random_state=20)\n",
    "\n",
    "clf=KNeighborsClassifier()\n",
    "clf.fit(x_train,y_train)\n",
    "y_predict=clf.predict(x_test)\n",
    "\n",
    "print(f\"Accuracy point : \\n{accuracy_score(y_test,y_predict)}\\n\")\n",
    "cm=confusion_matrix(y_test,y_predict)\n",
    "classes=iris.target_names\n",
    "frame=pd.DataFrame(cm,index=[f'predicted {cls}'for cls in classes],columns=[f'is {cls}' for cls in classes])\n",
    "print(f\"Confusion matrix point : \\n{frame}\\n\")\n",
    "print(f\"Classification Report :\\n {classification_report(y_test,y_predict)}\")\n",
    "print(f\"Precision Score : \\n{precision_score(y_test,y_predict,average='micro')}\")\n"
   ]
  }
 ],
 "metadata": {
  "kernelspec": {
   "display_name": "env",
   "language": "python",
   "name": "python3"
  },
  "language_info": {
   "codemirror_mode": {
    "name": "ipython",
    "version": 3
   },
   "file_extension": ".py",
   "mimetype": "text/x-python",
   "name": "python",
   "nbconvert_exporter": "python",
   "pygments_lexer": "ipython3",
   "version": "3.10.2"
  }
 },
 "nbformat": 4,
 "nbformat_minor": 5
}
